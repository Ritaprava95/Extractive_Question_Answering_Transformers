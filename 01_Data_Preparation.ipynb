{
 "cells": [
  {
   "cell_type": "code",
   "execution_count": 20,
   "id": "8f6c3416",
   "metadata": {},
   "outputs": [],
   "source": [
    "import pandas as pd\n",
    "import os"
   ]
  },
  {
   "cell_type": "markdown",
   "id": "28224ebe",
   "metadata": {},
   "source": [
    "## Read the data"
   ]
  },
  {
   "cell_type": "code",
   "execution_count": 2,
   "id": "296c312a",
   "metadata": {},
   "outputs": [],
   "source": [
    "data = pd.read_csv(r\"..\\data\\newsqa-data-v1\\newsqa-data-v1.csv\")"
   ]
  },
  {
   "cell_type": "code",
   "execution_count": 3,
   "id": "810305b0",
   "metadata": {},
   "outputs": [
    {
     "data": {
      "text/html": [
       "<div>\n",
       "<style scoped>\n",
       "    .dataframe tbody tr th:only-of-type {\n",
       "        vertical-align: middle;\n",
       "    }\n",
       "\n",
       "    .dataframe tbody tr th {\n",
       "        vertical-align: top;\n",
       "    }\n",
       "\n",
       "    .dataframe thead th {\n",
       "        text-align: right;\n",
       "    }\n",
       "</style>\n",
       "<table border=\"1\" class=\"dataframe\">\n",
       "  <thead>\n",
       "    <tr style=\"text-align: right;\">\n",
       "      <th></th>\n",
       "      <th>story_id</th>\n",
       "      <th>question</th>\n",
       "      <th>answer_char_ranges</th>\n",
       "      <th>is_answer_absent</th>\n",
       "      <th>is_question_bad</th>\n",
       "      <th>validated_answers</th>\n",
       "    </tr>\n",
       "  </thead>\n",
       "  <tbody>\n",
       "    <tr>\n",
       "      <th>0</th>\n",
       "      <td>./cnn/stories/42d01e187213e86f5fe617fe32e716ff...</td>\n",
       "      <td>What was the amount of children murdered?</td>\n",
       "      <td>294:297|None|None</td>\n",
       "      <td>0.000000</td>\n",
       "      <td>0.0</td>\n",
       "      <td>{\"none\": 1, \"294:297\": 2}</td>\n",
       "    </tr>\n",
       "    <tr>\n",
       "      <th>1</th>\n",
       "      <td>./cnn/stories/c48228a52f26aca65c31fad273e66164...</td>\n",
       "      <td>Where was one employee killed?</td>\n",
       "      <td>34:60|1610:1618|34:60</td>\n",
       "      <td>0.000000</td>\n",
       "      <td>0.0</td>\n",
       "      <td>NaN</td>\n",
       "    </tr>\n",
       "    <tr>\n",
       "      <th>2</th>\n",
       "      <td>./cnn/stories/c65ed85800e4535f4bbbfa2c34d7d963...</td>\n",
       "      <td>who did say South Africa did not issue a visa ...</td>\n",
       "      <td>103:127|114:127|839:853</td>\n",
       "      <td>0.000000</td>\n",
       "      <td>0.0</td>\n",
       "      <td>{\"839:853\": 1, \"103:127\": 2}</td>\n",
       "    </tr>\n",
       "    <tr>\n",
       "      <th>3</th>\n",
       "      <td>./cnn/stories/0cf66b646e9b32076513c050edf32a79...</td>\n",
       "      <td>How many years old was the businessman?</td>\n",
       "      <td>538:550|538:550</td>\n",
       "      <td>0.000000</td>\n",
       "      <td>0.0</td>\n",
       "      <td>NaN</td>\n",
       "    </tr>\n",
       "    <tr>\n",
       "      <th>4</th>\n",
       "      <td>./cnn/stories/13012604e3203c18df09289dfedd14cd...</td>\n",
       "      <td>What frightened the families?</td>\n",
       "      <td>690:742|688:791|630:646</td>\n",
       "      <td>0.000000</td>\n",
       "      <td>0.0</td>\n",
       "      <td>{\"688:791\": 2, \"690:742\": 1}</td>\n",
       "    </tr>\n",
       "    <tr>\n",
       "      <th>5</th>\n",
       "      <td>./cnn/stories/47bec8c6418d2cc7e36f453f0f4bf049...</td>\n",
       "      <td>what Pope used to beat himself?</td>\n",
       "      <td>14:27|14:27</td>\n",
       "      <td>0.000000</td>\n",
       "      <td>0.0</td>\n",
       "      <td>NaN</td>\n",
       "    </tr>\n",
       "    <tr>\n",
       "      <th>6</th>\n",
       "      <td>./cnn/stories/d312173b8c95cc6c206a32cc0acd8a92...</td>\n",
       "      <td>Who is hiring?</td>\n",
       "      <td>334:345|292:297,372:379|4045:4079|301:324</td>\n",
       "      <td>0.000000</td>\n",
       "      <td>0.0</td>\n",
       "      <td>{\"301:324\": 2}</td>\n",
       "    </tr>\n",
       "    <tr>\n",
       "      <th>7</th>\n",
       "      <td>./cnn/stories/644a3f79470d3b457efacc7d4ea33577...</td>\n",
       "      <td>What war was the Iwo Jima battle a part of?</td>\n",
       "      <td>57:63,67:70|None|57:63,67:70</td>\n",
       "      <td>0.333333</td>\n",
       "      <td>0.0</td>\n",
       "      <td>NaN</td>\n",
       "    </tr>\n",
       "    <tr>\n",
       "      <th>8</th>\n",
       "      <td>./cnn/stories/d191e20468fc7675fcfa55c33fab1e65...</td>\n",
       "      <td>Iran criticizes who?</td>\n",
       "      <td>68:97|63:97|None</td>\n",
       "      <td>0.333333</td>\n",
       "      <td>0.0</td>\n",
       "      <td>{\"63:97\": 2}</td>\n",
       "    </tr>\n",
       "    <tr>\n",
       "      <th>9</th>\n",
       "      <td>./cnn/stories/318f71eba1831f330d423043827aa24e...</td>\n",
       "      <td>Who is Radu Mazare?</td>\n",
       "      <td>196:228|196:202,217:228|196:205,217:228</td>\n",
       "      <td>0.000000</td>\n",
       "      <td>0.0</td>\n",
       "      <td>{\"196:228\": 2}</td>\n",
       "    </tr>\n",
       "  </tbody>\n",
       "</table>\n",
       "</div>"
      ],
      "text/plain": [
       "                                            story_id  \\\n",
       "0  ./cnn/stories/42d01e187213e86f5fe617fe32e716ff...   \n",
       "1  ./cnn/stories/c48228a52f26aca65c31fad273e66164...   \n",
       "2  ./cnn/stories/c65ed85800e4535f4bbbfa2c34d7d963...   \n",
       "3  ./cnn/stories/0cf66b646e9b32076513c050edf32a79...   \n",
       "4  ./cnn/stories/13012604e3203c18df09289dfedd14cd...   \n",
       "5  ./cnn/stories/47bec8c6418d2cc7e36f453f0f4bf049...   \n",
       "6  ./cnn/stories/d312173b8c95cc6c206a32cc0acd8a92...   \n",
       "7  ./cnn/stories/644a3f79470d3b457efacc7d4ea33577...   \n",
       "8  ./cnn/stories/d191e20468fc7675fcfa55c33fab1e65...   \n",
       "9  ./cnn/stories/318f71eba1831f330d423043827aa24e...   \n",
       "\n",
       "                                            question  \\\n",
       "0          What was the amount of children murdered?   \n",
       "1                     Where was one employee killed?   \n",
       "2  who did say South Africa did not issue a visa ...   \n",
       "3            How many years old was the businessman?   \n",
       "4                      What frightened the families?   \n",
       "5                    what Pope used to beat himself?   \n",
       "6                                     Who is hiring?   \n",
       "7        What war was the Iwo Jima battle a part of?   \n",
       "8                               Iran criticizes who?   \n",
       "9                                Who is Radu Mazare?   \n",
       "\n",
       "                          answer_char_ranges  is_answer_absent  \\\n",
       "0                          294:297|None|None          0.000000   \n",
       "1                      34:60|1610:1618|34:60          0.000000   \n",
       "2                    103:127|114:127|839:853          0.000000   \n",
       "3                            538:550|538:550          0.000000   \n",
       "4                    690:742|688:791|630:646          0.000000   \n",
       "5                                14:27|14:27          0.000000   \n",
       "6  334:345|292:297,372:379|4045:4079|301:324          0.000000   \n",
       "7               57:63,67:70|None|57:63,67:70          0.333333   \n",
       "8                           68:97|63:97|None          0.333333   \n",
       "9    196:228|196:202,217:228|196:205,217:228          0.000000   \n",
       "\n",
       "  is_question_bad             validated_answers  \n",
       "0             0.0     {\"none\": 1, \"294:297\": 2}  \n",
       "1             0.0                           NaN  \n",
       "2             0.0  {\"839:853\": 1, \"103:127\": 2}  \n",
       "3             0.0                           NaN  \n",
       "4             0.0  {\"688:791\": 2, \"690:742\": 1}  \n",
       "5             0.0                           NaN  \n",
       "6             0.0                {\"301:324\": 2}  \n",
       "7             0.0                           NaN  \n",
       "8             0.0                  {\"63:97\": 2}  \n",
       "9             0.0                {\"196:228\": 2}  "
      ]
     },
     "execution_count": 3,
     "metadata": {},
     "output_type": "execute_result"
    }
   ],
   "source": [
    "data.head(10)"
   ]
  },
  {
   "cell_type": "code",
   "execution_count": 4,
   "id": "e8697c1b",
   "metadata": {},
   "outputs": [
    {
     "name": "stdout",
     "output_type": "stream",
     "text": [
      "<class 'pandas.core.frame.DataFrame'>\n",
      "RangeIndex: 119633 entries, 0 to 119632\n",
      "Data columns (total 6 columns):\n",
      " #   Column              Non-Null Count   Dtype  \n",
      "---  ------              --------------   -----  \n",
      " 0   story_id            119633 non-null  object \n",
      " 1   question            119631 non-null  object \n",
      " 2   answer_char_ranges  119633 non-null  object \n",
      " 3   is_answer_absent    119633 non-null  float64\n",
      " 4   is_question_bad     119633 non-null  object \n",
      " 5   validated_answers   51630 non-null   object \n",
      "dtypes: float64(1), object(5)\n",
      "memory usage: 5.5+ MB\n"
     ]
    }
   ],
   "source": [
    "data.info()"
   ]
  },
  {
   "cell_type": "markdown",
   "id": "64bfcb32",
   "metadata": {},
   "source": [
    "### Too many 'NaN' in 'validated_answers' columns.\n",
    "### Let's keep only the validated ones"
   ]
  },
  {
   "cell_type": "code",
   "execution_count": 5,
   "id": "694188f8",
   "metadata": {},
   "outputs": [],
   "source": [
    "data.dropna(inplace=True)"
   ]
  },
  {
   "cell_type": "code",
   "execution_count": 6,
   "id": "c9a5c4d5",
   "metadata": {},
   "outputs": [
    {
     "name": "stdout",
     "output_type": "stream",
     "text": [
      "<class 'pandas.core.frame.DataFrame'>\n",
      "Int64Index: 51630 entries, 0 to 119630\n",
      "Data columns (total 6 columns):\n",
      " #   Column              Non-Null Count  Dtype  \n",
      "---  ------              --------------  -----  \n",
      " 0   story_id            51630 non-null  object \n",
      " 1   question            51630 non-null  object \n",
      " 2   answer_char_ranges  51630 non-null  object \n",
      " 3   is_answer_absent    51630 non-null  float64\n",
      " 4   is_question_bad     51630 non-null  object \n",
      " 5   validated_answers   51630 non-null  object \n",
      "dtypes: float64(1), object(5)\n",
      "memory usage: 2.8+ MB\n"
     ]
    }
   ],
   "source": [
    "data.info()"
   ]
  },
  {
   "cell_type": "markdown",
   "id": "a1a57894",
   "metadata": {},
   "source": [
    "### This looks better"
   ]
  },
  {
   "cell_type": "markdown",
   "id": "499de053",
   "metadata": {},
   "source": [
    "### But still there are many data which have been reported as 'is_answer_absent' or 'is_question_bad' by many people. I'll not take any chance, and only keep those which have 0 such reports."
   ]
  },
  {
   "cell_type": "code",
   "execution_count": 12,
   "id": "b723e6d7",
   "metadata": {},
   "outputs": [],
   "source": [
    "data=data[(data['is_answer_absent'].astype('float')==0)&(data['is_question_bad']=='0.0')] # the datatypes are str"
   ]
  },
  {
   "cell_type": "code",
   "execution_count": 13,
   "id": "72de6d14",
   "metadata": {},
   "outputs": [
    {
     "data": {
      "text/html": [
       "<div>\n",
       "<style scoped>\n",
       "    .dataframe tbody tr th:only-of-type {\n",
       "        vertical-align: middle;\n",
       "    }\n",
       "\n",
       "    .dataframe tbody tr th {\n",
       "        vertical-align: top;\n",
       "    }\n",
       "\n",
       "    .dataframe thead th {\n",
       "        text-align: right;\n",
       "    }\n",
       "</style>\n",
       "<table border=\"1\" class=\"dataframe\">\n",
       "  <thead>\n",
       "    <tr style=\"text-align: right;\">\n",
       "      <th></th>\n",
       "      <th>story_id</th>\n",
       "      <th>question</th>\n",
       "      <th>answer_char_ranges</th>\n",
       "      <th>is_answer_absent</th>\n",
       "      <th>is_question_bad</th>\n",
       "      <th>validated_answers</th>\n",
       "    </tr>\n",
       "  </thead>\n",
       "  <tbody>\n",
       "    <tr>\n",
       "      <th>0</th>\n",
       "      <td>./cnn/stories/42d01e187213e86f5fe617fe32e716ff...</td>\n",
       "      <td>What was the amount of children murdered?</td>\n",
       "      <td>294:297|None|None</td>\n",
       "      <td>0.0</td>\n",
       "      <td>0.0</td>\n",
       "      <td>{\"none\": 1, \"294:297\": 2}</td>\n",
       "    </tr>\n",
       "    <tr>\n",
       "      <th>2</th>\n",
       "      <td>./cnn/stories/c65ed85800e4535f4bbbfa2c34d7d963...</td>\n",
       "      <td>who did say South Africa did not issue a visa ...</td>\n",
       "      <td>103:127|114:127|839:853</td>\n",
       "      <td>0.0</td>\n",
       "      <td>0.0</td>\n",
       "      <td>{\"839:853\": 1, \"103:127\": 2}</td>\n",
       "    </tr>\n",
       "    <tr>\n",
       "      <th>4</th>\n",
       "      <td>./cnn/stories/13012604e3203c18df09289dfedd14cd...</td>\n",
       "      <td>What frightened the families?</td>\n",
       "      <td>690:742|688:791|630:646</td>\n",
       "      <td>0.0</td>\n",
       "      <td>0.0</td>\n",
       "      <td>{\"688:791\": 2, \"690:742\": 1}</td>\n",
       "    </tr>\n",
       "    <tr>\n",
       "      <th>6</th>\n",
       "      <td>./cnn/stories/d312173b8c95cc6c206a32cc0acd8a92...</td>\n",
       "      <td>Who is hiring?</td>\n",
       "      <td>334:345|292:297,372:379|4045:4079|301:324</td>\n",
       "      <td>0.0</td>\n",
       "      <td>0.0</td>\n",
       "      <td>{\"301:324\": 2}</td>\n",
       "    </tr>\n",
       "    <tr>\n",
       "      <th>9</th>\n",
       "      <td>./cnn/stories/318f71eba1831f330d423043827aa24e...</td>\n",
       "      <td>Who is Radu Mazare?</td>\n",
       "      <td>196:228|196:202,217:228|196:205,217:228</td>\n",
       "      <td>0.0</td>\n",
       "      <td>0.0</td>\n",
       "      <td>{\"196:228\": 2}</td>\n",
       "    </tr>\n",
       "    <tr>\n",
       "      <th>13</th>\n",
       "      <td>./cnn/stories/4ba7d2cd2eed959000ff8d1b1891cb72...</td>\n",
       "      <td>What does Designer Isabel Toledo say?</td>\n",
       "      <td>221:232|221:232,261:408|2038:2172,2177:2216,22...</td>\n",
       "      <td>0.0</td>\n",
       "      <td>0.0</td>\n",
       "      <td>{\"221:232\": 1, \"none\": 1, \"2042:2176\": 1}</td>\n",
       "    </tr>\n",
       "    <tr>\n",
       "      <th>15</th>\n",
       "      <td>./cnn/stories/4d181b23eb2a5c73f17f6c6c8856ad24...</td>\n",
       "      <td>What did the French president say?</td>\n",
       "      <td>3816:3859|3798:3859|3798:4072</td>\n",
       "      <td>0.0</td>\n",
       "      <td>0.0</td>\n",
       "      <td>{\"3798:4072\": 2}</td>\n",
       "    </tr>\n",
       "    <tr>\n",
       "      <th>17</th>\n",
       "      <td>./cnn/stories/b0e3514a8b6859bbf897f09721e93fc9...</td>\n",
       "      <td>What are the activities for?</td>\n",
       "      <td>None|644:758|641:758</td>\n",
       "      <td>0.0</td>\n",
       "      <td>0.0</td>\n",
       "      <td>{\"644:758\": 2}</td>\n",
       "    </tr>\n",
       "    <tr>\n",
       "      <th>18</th>\n",
       "      <td>./cnn/stories/16032c5ee785586dd13cf05818718744...</td>\n",
       "      <td>What requires unified action?</td>\n",
       "      <td>581:720|581:658|578:658</td>\n",
       "      <td>0.0</td>\n",
       "      <td>0.0</td>\n",
       "      <td>{\"581:658\": 2}</td>\n",
       "    </tr>\n",
       "    <tr>\n",
       "      <th>19</th>\n",
       "      <td>./cnn/stories/15d6c5089f6801a6c0460cb3cc2aa1b9...</td>\n",
       "      <td>What has Hleb chosen to do?</td>\n",
       "      <td>288:313|303:371|124:134,95:105</td>\n",
       "      <td>0.0</td>\n",
       "      <td>0.0</td>\n",
       "      <td>{\"288:313\": 1, \"none\": 1, \"95:105\": 1}</td>\n",
       "    </tr>\n",
       "  </tbody>\n",
       "</table>\n",
       "</div>"
      ],
      "text/plain": [
       "                                             story_id  \\\n",
       "0   ./cnn/stories/42d01e187213e86f5fe617fe32e716ff...   \n",
       "2   ./cnn/stories/c65ed85800e4535f4bbbfa2c34d7d963...   \n",
       "4   ./cnn/stories/13012604e3203c18df09289dfedd14cd...   \n",
       "6   ./cnn/stories/d312173b8c95cc6c206a32cc0acd8a92...   \n",
       "9   ./cnn/stories/318f71eba1831f330d423043827aa24e...   \n",
       "13  ./cnn/stories/4ba7d2cd2eed959000ff8d1b1891cb72...   \n",
       "15  ./cnn/stories/4d181b23eb2a5c73f17f6c6c8856ad24...   \n",
       "17  ./cnn/stories/b0e3514a8b6859bbf897f09721e93fc9...   \n",
       "18  ./cnn/stories/16032c5ee785586dd13cf05818718744...   \n",
       "19  ./cnn/stories/15d6c5089f6801a6c0460cb3cc2aa1b9...   \n",
       "\n",
       "                                             question  \\\n",
       "0           What was the amount of children murdered?   \n",
       "2   who did say South Africa did not issue a visa ...   \n",
       "4                       What frightened the families?   \n",
       "6                                      Who is hiring?   \n",
       "9                                 Who is Radu Mazare?   \n",
       "13              What does Designer Isabel Toledo say?   \n",
       "15                 What did the French president say?   \n",
       "17                       What are the activities for?   \n",
       "18                      What requires unified action?   \n",
       "19                        What has Hleb chosen to do?   \n",
       "\n",
       "                                   answer_char_ranges  is_answer_absent  \\\n",
       "0                                   294:297|None|None               0.0   \n",
       "2                             103:127|114:127|839:853               0.0   \n",
       "4                             690:742|688:791|630:646               0.0   \n",
       "6           334:345|292:297,372:379|4045:4079|301:324               0.0   \n",
       "9             196:228|196:202,217:228|196:205,217:228               0.0   \n",
       "13  221:232|221:232,261:408|2038:2172,2177:2216,22...               0.0   \n",
       "15                      3816:3859|3798:3859|3798:4072               0.0   \n",
       "17                               None|644:758|641:758               0.0   \n",
       "18                            581:720|581:658|578:658               0.0   \n",
       "19                     288:313|303:371|124:134,95:105               0.0   \n",
       "\n",
       "   is_question_bad                          validated_answers  \n",
       "0              0.0                  {\"none\": 1, \"294:297\": 2}  \n",
       "2              0.0               {\"839:853\": 1, \"103:127\": 2}  \n",
       "4              0.0               {\"688:791\": 2, \"690:742\": 1}  \n",
       "6              0.0                             {\"301:324\": 2}  \n",
       "9              0.0                             {\"196:228\": 2}  \n",
       "13             0.0  {\"221:232\": 1, \"none\": 1, \"2042:2176\": 1}  \n",
       "15             0.0                           {\"3798:4072\": 2}  \n",
       "17             0.0                             {\"644:758\": 2}  \n",
       "18             0.0                             {\"581:658\": 2}  \n",
       "19             0.0     {\"288:313\": 1, \"none\": 1, \"95:105\": 1}  "
      ]
     },
     "execution_count": 13,
     "metadata": {},
     "output_type": "execute_result"
    }
   ],
   "source": [
    "data.head(10)"
   ]
  },
  {
   "cell_type": "code",
   "execution_count": 14,
   "id": "aee97405",
   "metadata": {},
   "outputs": [
    {
     "name": "stdout",
     "output_type": "stream",
     "text": [
      "<class 'pandas.core.frame.DataFrame'>\n",
      "Int64Index: 25817 entries, 0 to 119630\n",
      "Data columns (total 6 columns):\n",
      " #   Column              Non-Null Count  Dtype  \n",
      "---  ------              --------------  -----  \n",
      " 0   story_id            25817 non-null  object \n",
      " 1   question            25817 non-null  object \n",
      " 2   answer_char_ranges  25817 non-null  object \n",
      " 3   is_answer_absent    25817 non-null  float64\n",
      " 4   is_question_bad     25817 non-null  object \n",
      " 5   validated_answers   25817 non-null  object \n",
      "dtypes: float64(1), object(5)\n",
      "memory usage: 1.4+ MB\n"
     ]
    }
   ],
   "source": [
    "data.info()"
   ]
  },
  {
   "cell_type": "code",
   "execution_count": 16,
   "id": "d4c298f4",
   "metadata": {},
   "outputs": [],
   "source": [
    "data = data.reset_index(drop=True)"
   ]
  },
  {
   "cell_type": "markdown",
   "id": "928b4d06",
   "metadata": {},
   "source": [
    "## The stories are in a separate directory"
   ]
  },
  {
   "cell_type": "markdown",
   "id": "9f0a786e",
   "metadata": {},
   "source": [
    "### Reading one of the stories"
   ]
  },
  {
   "cell_type": "code",
   "execution_count": 33,
   "id": "4f45353b",
   "metadata": {},
   "outputs": [],
   "source": [
    "base_story_path = r\"E:\\Work\\Data_Science\\Projects\\Custom_Extractive_QA\\data\\cnn_stories\""
   ]
  },
  {
   "cell_type": "code",
   "execution_count": 34,
   "id": "550e693d",
   "metadata": {},
   "outputs": [
    {
     "data": {
      "text/plain": [
       "'cnn\\\\stories\\\\42d01e187213e86f5fe617fe32e716ff7fa3afc4.story'"
      ]
     },
     "execution_count": 34,
     "metadata": {},
     "output_type": "execute_result"
    }
   ],
   "source": [
    "story_id = data.loc[0,'story_id'][2:].replace('/', '\\\\')\n",
    "story_id"
   ]
  },
  {
   "cell_type": "code",
   "execution_count": 37,
   "id": "3a053463",
   "metadata": {},
   "outputs": [
    {
     "data": {
      "text/plain": [
       "'E:\\\\Work\\\\Data_Science\\\\Projects\\\\Custom_Extractive_QA\\\\data\\\\cnn_stories\\\\cnn\\\\stories\\\\42d01e187213e86f5fe617fe32e716ff7fa3afc4.story'"
      ]
     },
     "execution_count": 37,
     "metadata": {},
     "output_type": "execute_result"
    }
   ],
   "source": [
    "story_path = os.path.join(base_story_path, story_id)\n",
    "story_path"
   ]
  },
  {
   "cell_type": "code",
   "execution_count": 38,
   "id": "d3ad5e27",
   "metadata": {},
   "outputs": [],
   "source": [
    "with open(story_path, 'r') as f:\n",
    "    story_text = f.read()"
   ]
  },
  {
   "cell_type": "code",
   "execution_count": 40,
   "id": "5425065d",
   "metadata": {},
   "outputs": [
    {
     "data": {
      "text/plain": [
       "'NEW DELHI, India (CNN) -- A high court in northern India on Friday acquitted a wealthy businessman facing the death sentence for the killing of a teen in a case dubbed \"the house of horrors.\"\\n\\nMoninder Singh Pandher was sentenced to death by a lower court in February.\\n\\nThe teen was one of 19 victims -- children and young women -- in one of the most gruesome serial killings in India in recent years.\\n\\nThe Allahabad high court has acquitted Moninder Singh Pandher, his lawyer Sikandar B. Kochar told CNN.\\n\\nPandher and his domestic employee Surinder Koli were sentenced to death in February by a lower court for the rape and murder of the 14-year-old.\\n\\nThe high court upheld Koli\\'s death sentence, Kochar said.\\n\\nThe two were arrested two years ago after body parts packed in plastic bags were found near their home in Noida, a New Delhi suburb. Their home was later dubbed a \"house of horrors\" by the Indian media.\\n\\nPandher was not named a main suspect by investigators initially, but was summoned as co-accused during the trial, Kochar said.\\n\\nKochar said his client was in Australia when the teen was raped and killed.\\n\\nPandher faces trial in the remaining 18 killings and could remain in custody, the attorney said.\\n\\n@highlight\\n\\nCourt acquitted Moninder Singh Pandher for the killing of a teen\\n\\n@highlight\\n\\n14-year old was one of 19 children and young women murdered\\n\\n@highlight\\n\\nPandher and a domestic employee sentenced to death in February by lower court'"
      ]
     },
     "execution_count": 40,
     "metadata": {},
     "output_type": "execute_result"
    }
   ],
   "source": [
    "story_text"
   ]
  },
  {
   "cell_type": "code",
   "execution_count": null,
   "id": "dcc423a6",
   "metadata": {},
   "outputs": [],
   "source": []
  }
 ],
 "metadata": {
  "kernelspec": {
   "display_name": "Python 3 (ipykernel)",
   "language": "python",
   "name": "python3"
  },
  "language_info": {
   "codemirror_mode": {
    "name": "ipython",
    "version": 3
   },
   "file_extension": ".py",
   "mimetype": "text/x-python",
   "name": "python",
   "nbconvert_exporter": "python",
   "pygments_lexer": "ipython3",
   "version": "3.8.16"
  }
 },
 "nbformat": 4,
 "nbformat_minor": 5
}
